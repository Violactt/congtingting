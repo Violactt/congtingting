{
 "cells": [
  {
   "cell_type": "code",
   "execution_count": 1,
   "metadata": {},
   "outputs": [
    {
     "name": "stdout",
     "output_type": "stream",
     "text": [
      "[<Element div at 0x7bb6748>]\n",
      "['http://17k.com/', 'http://www.17k.com/', 'http://top.17k.com/', 'http://all.17k.com/lib/book.html', 'http://zhuanti.17k.com/subject/2017dsip/pc/index.html', 'http://www.17k.com/man/', 'http://mm.17k.com/', 'http://www.17k.com/gexing/', 'http://www.17k.com/adaptation/index.html', 'http://www.17k.com/mianfei/', 'http://www.17k.com/quanben/', 'http://bbs.17k.com', 'http://www.17k.com/download/', 'http://wan.17k.com/jump/nyfpl71', '/', '/man', 'http://all.17k.com/lib/book/_21_______1.html', '/book/2836652.html', 'http://www.17k.com/aboutus/', 'http://www.17k.com/aboutus/Cooperation.html', 'http://www.17k.com/aboutus/link.html', 'http://www.17k.com/Simple/contents/helpCenter/helpCenter.htm', 'http://www.17k.com/Simple/contents/login/Rdme.html', 'http://www.17k.com/about/sitemap.html', 'http://www.17k.com/recruitment/index.html', 'http://code.17k.com/']\n"
     ]
    }
   ],
   "source": [
    "import requests\n",
    "a=requests.get('http://www.17k.com/book/2836652.html')\n",
    "a.text\n",
    "from lxml import etree\n",
    "tree = etree.HTML(a.text)\n",
    "tree\n",
    "div=tree.xpath('//div[@class=\"Nav\"]')\n",
    "print(div)\n",
    "for i in div:\n",
    "    print(i.xpath('/html/body/div/div/a[@href]/@href'))"
   ]
  },
  {
   "cell_type": "code",
   "execution_count": 2,
   "metadata": {},
   "outputs": [
    {
     "name": "stdout",
     "output_type": "stream",
     "text": [
      "4\n",
      "2\n",
      "456\n"
     ]
    }
   ],
   "source": [
    "import re\n",
    "content = 'Hello 1234567 hahah 123 lala 456'\n",
    "res = re.match('^H.*\\d{3}(\\d{1})\\d{3}.*\\d{1}(\\d{1})\\d{1}.*\\s(\\d{3})',content)\n",
    "print(res.group(1))\n",
    "print(res.group(2))\n",
    "print(res.group(3))"
   ]
  }
 ],
 "metadata": {
  "kernelspec": {
   "display_name": "Python 3",
   "language": "python",
   "name": "python3"
  },
  "language_info": {
   "codemirror_mode": {
    "name": "ipython",
    "version": 3
   },
   "file_extension": ".py",
   "mimetype": "text/x-python",
   "name": "python",
   "nbconvert_exporter": "python",
   "pygments_lexer": "ipython3",
   "version": "3.6.4"
  }
 },
 "nbformat": 4,
 "nbformat_minor": 2
}
