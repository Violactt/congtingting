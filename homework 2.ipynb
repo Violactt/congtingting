{
 "cells": [
  {
   "cell_type": "code",
   "execution_count": 48,
   "metadata": {},
   "outputs": [
    {
     "name": "stdout",
     "output_type": "stream",
     "text": [
      "矩形1的宽为: 4\n",
      "矩形1的高为: 40\n",
      "矩形1的面积为: 160\n",
      "矩形1的周长为: 88\n",
      "矩形2的宽为: 3.5\n",
      "矩形2的高为: 35.7\n",
      "矩形2的面积为: 124.95000000000002\n",
      "矩形2的周长为: 78.4\n"
     ]
    }
   ],
   "source": [
    "#1计算矩形的面积和周长\n",
    "class Rectangle1(object):\n",
    "    def __init__(self,width,height):\n",
    "        self.width = width\n",
    "        self.height = height\n",
    "        width = 1\n",
    "        height = 2\n",
    "    def getArea(self):\n",
    "        print(\"矩形1的宽为:\",self.width)\n",
    "        print(\"矩形1的高为:\",self.height)\n",
    "        print(\"矩形1的面积为:\",self.width * self.height)\n",
    "    def getPerimeter(self):\n",
    "        print(\"矩形1的周长为:\",(self.width +self.height)*2)\n",
    "                \n",
    "class Rectangle2(object):\n",
    "    def __init__(self,width,height):\n",
    "        self.width = width\n",
    "        self.height = height\n",
    "    def getArea(self):\n",
    "        print(\"矩形2的宽为:\",self.width)\n",
    "        print(\"矩形2的高为:\",self.height)\n",
    "        print(\"矩形2的面积为:\",self.width * self.height)\n",
    "    def getPerimeter(self):\n",
    "        print(\"矩形2的周长为:\",(self.width +self.height)*2)\n",
    "\n",
    "jisuan = Rectangle1(4,40)\n",
    "jisuan.getArea()\n",
    "jisuan.getPerimeter()\n",
    "    \n",
    "jisuan2 = Rectangle2(3.5,35.7)\n",
    "jisuan2.getArea()\n",
    "jisuan2.getPerimeter()"
   ]
  },
  {
   "cell_type": "code",
   "execution_count": 47,
   "metadata": {},
   "outputs": [
    {
     "name": "stdout",
     "output_type": "stream",
     "text": [
      "id为： 4545\n",
      "余额为： 10500\n",
      "月利率为： 0.004583333333333333\n",
      "月利息为： 48.125\n"
     ]
    }
   ],
   "source": [
    "#2账户操作\n",
    "class Account(object):\n",
    "    def __init__(self,id,balance,annuallnterestRate):\n",
    "        self.__id = id\n",
    "        self.__balance = balance\n",
    "        self.__annuallnterestRate = annuallnterestRate\n",
    "        \n",
    "    @property#访问器\n",
    "    def id(self):\n",
    "        print(self.__id)   \n",
    "    @id.setter#修改器\n",
    "    def id(self,erid):\n",
    "        self.__id = erid\n",
    "    @property\n",
    "    def balance(self):\n",
    "        print(self.__balance)   \n",
    "    @balance.setter\n",
    "    def balance(self,erbalance):\n",
    "        self.__balance = erbalance\n",
    "    @property\n",
    "    def annuallnterestRate(self):\n",
    "        print(self.__annuallnterestRate)   \n",
    "    @annuallnterestRate.setter\n",
    "    def annuallnterestRate(self,erannuallnterestRate):\n",
    "        self.__annuallnterestRate = erannuallnterestRate\n",
    "    \n",
    "    \n",
    "    def getMonthlyInterestRate(self):\n",
    "        #返回月利率\n",
    "        self.monthlyInterestRate = self.__annuallnterestRate/12\n",
    "        print(\"月利率为：\",self.monthlyInterestRate)\n",
    "    def getMonthlyInterest(self):\n",
    "        #返回月利息\n",
    "        print(\"月利息为：\",self.__balance * self.monthlyInterestRate)\n",
    "    def withdraw(self,atm):\n",
    "        #取款\n",
    "        self.__balance = self.__balance - atm\n",
    "    def deposit(self,atm):\n",
    "        #存款\n",
    "        self.__balance = self.__balance + atm\n",
    "        print(\"id为：\",self.__id)\n",
    "        print(\"余额为：\",self.__balance)\n",
    "\n",
    "get = Account(1122,20000,0.045)\n",
    "get.id = 4545\n",
    "get.balance = 10000\n",
    "get.annuallnterestRate = 0.055\n",
    "\n",
    "get.withdraw(2500)\n",
    "get.deposit(3000)\n",
    "get.getMonthlyInterestRate()\n",
    "get.getMonthlyInterest()"
   ]
  },
  {
   "cell_type": "code",
   "execution_count": 4,
   "metadata": {},
   "outputs": [
    {
     "ename": "SyntaxError",
     "evalue": "invalid syntax (<ipython-input-4-f94bf5332b5a>, line 12)",
     "output_type": "error",
     "traceback": [
      "\u001b[1;36m  File \u001b[1;32m\"<ipython-input-4-f94bf5332b5a>\"\u001b[1;36m, line \u001b[1;32m12\u001b[0m\n\u001b[1;33m    if self.__speed=1:\u001b[0m\n\u001b[1;37m                   ^\u001b[0m\n\u001b[1;31mSyntaxError\u001b[0m\u001b[1;31m:\u001b[0m invalid syntax\n"
     ]
    }
   ],
   "source": [
    "#3.风扇\n",
    "class fan(object):\n",
    "    def __init__(self,speed,on,radius,color):\n",
    "        self.__speed = speed\n",
    "        self.__on =on\n",
    "        self.__radius = radius\n",
    "        self.__color = color\n",
    "    def moshi(self):\n",
    "        if self.__speed=1:\n",
    "            speed=\"SLOW\"\n",
    "        elif self.__speed==2:\n",
    "            speed=\"MEDIUM\"\n",
    "        else:\n",
    "            speed=\"FAST\"\n",
    "        print(speed,self.on,self.radius,self.color)\n",
    "e = Fan()\n",
    "e.fengshan(3,10.0,True,\"yellow\")\n",
    "e.xianshi()\n",
    "e.fengshan(2,5.0,False,\"blue\")\n",
    "e.xianshi()      "
   ]
  },
  {
   "cell_type": "code",
   "execution_count": 1,
   "metadata": {},
   "outputs": [
    {
     "name": "stdout",
     "output_type": "stream",
     "text": [
      "FAST 10.0 True yellow\n",
      "MEDIUM 5.0 False blue\n"
     ]
    }
   ],
   "source": [
    "class Fan(object):\n",
    "    def fengshan(self,speed,on,radius,color):\n",
    "        self.speed=speed\n",
    "        self.color=color\n",
    "        self.radius=radius\n",
    "        self.on=on\n",
    "    def xianshi(self):\n",
    "        if self.speed==1:\n",
    "            speed1=\"SLOW\"\n",
    "        elif self.speed==2:\n",
    "            speed1=\"MEDIUM\"\n",
    "        else:\n",
    "            speed1=\"FAST\"\n",
    "        print(speed1,self.on,self.radius,self.color)\n",
    "qwe = Fan()\n",
    "qwe.fengshan(3,10.0,True,\"yellow\")\n",
    "qwe.xianshi()\n",
    "qwe.fengshan(2,5.0,False,\"blue\")\n",
    "qwe.xianshi()"
   ]
  },
  {
   "cell_type": "code",
   "execution_count": 68,
   "metadata": {},
   "outputs": [
    {
     "name": "stdout",
     "output_type": "stream",
     "text": [
      "边长为 5 的正 6 边形周长为： 30\n",
      "边长为 5 的正 6 边形面积为： 21.650635094610966\n"
     ]
    }
   ],
   "source": [
    "#4.正n边形求面积和周长\n",
    "import math\n",
    "class RegularPolygon(object):\n",
    "    def __init__(self,n,side,x,y):\n",
    "        self.__n = n\n",
    "        self.__side = side\n",
    "        self.__x = x\n",
    "        self.__y = y\n",
    "        x = 0\n",
    "        y = 0\n",
    "    @property#访问器\n",
    "    def n(self):\n",
    "        print(self.__n)   \n",
    "    @n.setter#修改器\n",
    "    def n(self,ern):\n",
    "        self.__n = ern   \n",
    "    @property#访问器\n",
    "    def side(self):\n",
    "        print(self.__side)   \n",
    "    @side.setter#修改器\n",
    "    def side(self,erside):\n",
    "        self.__side= erside    \n",
    "    @property#访问器\n",
    "    def x(self):\n",
    "        print(self.__x)   \n",
    "    @x.setter#修改器\n",
    "    def x(self,erx):\n",
    "        self.__x= erx  \n",
    "    @property#访问器\n",
    "    def y(self):\n",
    "        print(self.__y)   \n",
    "    @y.setter#修改器\n",
    "    def y(self,ery):\n",
    "        self.__y= ery\n",
    "        \n",
    "        \n",
    "    def getPerimeter(self):\n",
    "        print(\"边长为\",self.__side,\"的正\",self.__n,\"边形周长为：\",self.__n * self.__side)\n",
    "    def getArea(self):\n",
    "        print(\"边长为\",self.__side,\"的正\",self.__n,\"边形面积为：\",(self.__n * self.__side**2)/4* math.tan(math.pi/self.__n))\n",
    "        \n",
    "m =  RegularPolygon(10,4,5.6,7.8)\n",
    "m.n=6\n",
    "m.side = 5\n",
    "m.x = 45\n",
    "m.y = 44\n",
    "m.getPerimeter()\n",
    "m.getArea()"
   ]
  },
  {
   "cell_type": "code",
   "execution_count": 5,
   "metadata": {},
   "outputs": [
    {
     "ename": "SyntaxError",
     "evalue": "invalid character in identifier (<ipython-input-5-e8b7d6fbe6e0>, line 2)",
     "output_type": "error",
     "traceback": [
      "\u001b[1;36m  File \u001b[1;32m\"<ipython-input-5-e8b7d6fbe6e0>\"\u001b[1;36m, line \u001b[1;32m2\u001b[0m\n\u001b[1;33m    5、2*2线性方程\u001b[0m\n\u001b[1;37m      ^\u001b[0m\n\u001b[1;31mSyntaxError\u001b[0m\u001b[1;31m:\u001b[0m invalid character in identifier\n"
     ]
    }
   ],
   "source": [
    "#5.2*2线性方程\n",
    "5、2*2线性方程\n",
    "class LinearEquation(object):\n",
    "    def __init__(self,a,b,c,d,e,f):\n",
    "        self.__a=a\n",
    "        self.__b=b\n",
    "        self.__c=c\n",
    "        self.__d=d\n",
    "        self.__e=e\n",
    "        self.__f=f\n",
    "        self.x=0\n",
    "        self.y=0\n",
    "        self.z=0\n",
    "    def isSolvable(self):\n",
    "        z=self.__a*self.__d-self.__b*self.__c\n",
    "        if z !=0:\n",
    "            self.z=True\n",
    "        else:\n",
    "            self.z=False\n",
    "    def get(self):\n",
    "        self.x=(self.__e*self.__d-self.__b*self.__f)/(self.__a*self.__d-self.__b*self.__c)\n",
    "        self.y=(self.__a*self.__f-self.__e*self.__c)/(self.__a*self.__d-self.__b*self.__c)\n",
    "    def getX(self):\n",
    "        self.isSolvable()\n",
    "        if self.z == True:\n",
    "            self.get()\n",
    "            print(self.x)\n",
    "        else:\n",
    "            pass\n",
    "    def getY(self):\n",
    "        self.isSolvable()\n",
    "        if self.z == True:\n",
    "            self.get()\n",
    "            print(self.y)\n",
    "        else:\n",
    "            pass\n",
    "        \n",
    "qwe=LinearEquation(1,2,3,4,5,6)\n",
    "qwe.getX()\n",
    "qwe.getY()"
   ]
  },
  {
   "cell_type": "code",
   "execution_count": 70,
   "metadata": {},
   "outputs": [
    {
     "ename": "TypeError",
     "evalue": "LinearEquation() takes no arguments",
     "output_type": "error",
     "traceback": [
      "\u001b[1;31m---------------------------------------------------------------------------\u001b[0m",
      "\u001b[1;31mTypeError\u001b[0m                                 Traceback (most recent call last)",
      "\u001b[1;32m<ipython-input-70-8ca188aadaaf>\u001b[0m in \u001b[0;36m<module>\u001b[1;34m\u001b[0m\n\u001b[0;32m      6\u001b[0m         \u001b[0mpy\u001b[0m\u001b[1;33m=\u001b[0m \u001b[1;33m(\u001b[0m \u001b[1;33m(\u001b[0m\u001b[0mx1\u001b[0m\u001b[1;33m*\u001b[0m\u001b[0my2\u001b[0m\u001b[1;33m-\u001b[0m\u001b[0my1\u001b[0m\u001b[1;33m*\u001b[0m\u001b[0mx2\u001b[0m\u001b[1;33m)\u001b[0m\u001b[1;33m*\u001b[0m\u001b[1;33m(\u001b[0m\u001b[0my3\u001b[0m\u001b[1;33m-\u001b[0m\u001b[0my4\u001b[0m\u001b[1;33m)\u001b[0m\u001b[1;33m-\u001b[0m\u001b[1;33m(\u001b[0m\u001b[0my1\u001b[0m\u001b[1;33m-\u001b[0m\u001b[0my2\u001b[0m\u001b[1;33m)\u001b[0m\u001b[1;33m*\u001b[0m\u001b[1;33m(\u001b[0m\u001b[0mx3\u001b[0m\u001b[1;33m*\u001b[0m\u001b[0my4\u001b[0m\u001b[1;33m-\u001b[0m\u001b[0my3\u001b[0m\u001b[1;33m*\u001b[0m\u001b[0mx4\u001b[0m\u001b[1;33m)\u001b[0m \u001b[1;33m)\u001b[0m \u001b[1;33m/\u001b[0m \u001b[1;33m(\u001b[0m \u001b[1;33m(\u001b[0m\u001b[0mx1\u001b[0m\u001b[1;33m-\u001b[0m\u001b[0mx2\u001b[0m\u001b[1;33m)\u001b[0m\u001b[1;33m*\u001b[0m\u001b[1;33m(\u001b[0m\u001b[0my3\u001b[0m\u001b[1;33m-\u001b[0m\u001b[0my4\u001b[0m\u001b[1;33m)\u001b[0m\u001b[1;33m-\u001b[0m\u001b[1;33m(\u001b[0m\u001b[0my1\u001b[0m\u001b[1;33m-\u001b[0m\u001b[0my2\u001b[0m\u001b[1;33m)\u001b[0m\u001b[1;33m*\u001b[0m\u001b[1;33m(\u001b[0m\u001b[0mx3\u001b[0m\u001b[1;33m-\u001b[0m\u001b[0mx4\u001b[0m\u001b[1;33m)\u001b[0m \u001b[1;33m)\u001b[0m\u001b[1;33m\u001b[0m\u001b[1;33m\u001b[0m\u001b[0m\n\u001b[0;32m      7\u001b[0m         \u001b[0mprint\u001b[0m\u001b[1;33m(\u001b[0m\u001b[0mpx\u001b[0m\u001b[1;33m,\u001b[0m\u001b[0mpy\u001b[0m\u001b[1;33m)\u001b[0m\u001b[1;33m\u001b[0m\u001b[1;33m\u001b[0m\u001b[0m\n\u001b[1;32m----> 8\u001b[1;33m \u001b[0ms\u001b[0m \u001b[1;33m=\u001b[0m \u001b[0mLinearEquation\u001b[0m\u001b[1;33m(\u001b[0m\u001b[1;36m2\u001b[0m\u001b[1;33m,\u001b[0m\u001b[1;36m2\u001b[0m\u001b[1;33m,\u001b[0m\u001b[1;36m0\u001b[0m\u001b[1;33m,\u001b[0m\u001b[1;36m0\u001b[0m\u001b[1;33m,\u001b[0m\u001b[1;36m0\u001b[0m\u001b[1;33m,\u001b[0m\u001b[1;36m2\u001b[0m\u001b[1;33m,\u001b[0m\u001b[1;36m2\u001b[0m\u001b[1;33m,\u001b[0m\u001b[1;36m0\u001b[0m\u001b[1;33m,\u001b[0m\u001b[1;33m)\u001b[0m\u001b[1;33m\u001b[0m\u001b[1;33m\u001b[0m\u001b[0m\n\u001b[0m\u001b[0;32m      9\u001b[0m \u001b[0ms\u001b[0m\u001b[1;33m.\u001b[0m\u001b[0mxian\u001b[0m\u001b[1;33m(\u001b[0m\u001b[1;33m)\u001b[0m\u001b[1;33m\u001b[0m\u001b[1;33m\u001b[0m\u001b[0m\n",
      "\u001b[1;31mTypeError\u001b[0m: LinearEquation() takes no arguments"
     ]
    }
   ],
   "source": [
    "#6.交叉线\n",
    "class LinearEquation(object):\n",
    "    def __init__(self,x1,x2,x3,x4,y1,y2,y3,y4):\n",
    "        \n",
    "         \n",
    "s = LinearEquation(2,2,0,0,0,2,2,0,)  \n",
    "s.xian()"
   ]
  },
  {
   "cell_type": "code",
   "execution_count": null,
   "metadata": {},
   "outputs": [],
   "source": []
  }
 ],
 "metadata": {
  "kernelspec": {
   "display_name": "Python 3",
   "language": "python",
   "name": "python3"
  },
  "language_info": {
   "codemirror_mode": {
    "name": "ipython",
    "version": 3
   },
   "file_extension": ".py",
   "mimetype": "text/x-python",
   "name": "python",
   "nbconvert_exporter": "python",
   "pygments_lexer": "ipython3",
   "version": "3.7.3"
  }
 },
 "nbformat": 4,
 "nbformat_minor": 2
}
