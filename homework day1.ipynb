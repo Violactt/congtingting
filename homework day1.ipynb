{
 "cells": [
  {
   "cell_type": "code",
   "execution_count": null,
   "metadata": {},
   "outputs": [],
   "source": [
    "#1.编写一个测试程序使用这个函数显示前100个五角数,每行显示10个\n",
    "def getPentagonalNumber(n):\n",
    "    c = int(n*(3*n-1)/2)\n",
    "    print(c,end=' \\t ')\n",
    "    if n%10 ==0:\n",
    "    #每十个换行\n",
    "        print()\n",
    "    #结尾换行符改为空格      \n",
    "for i in range(1,101):\n",
    "    getPentagonalNumber(i)"
   ]
  },
  {
   "cell_type": "code",
   "execution_count": null,
   "metadata": {},
   "outputs": [],
   "source": [
    "#2.计算一个整数各个数字的和\n",
    "def sumDigits(x):\n",
    "    a = 0\n",
    "    for i in range(len(x)):\n",
    "        a += int(x[i])\n",
    "    return (a)\n",
    "x = input(\"请输入整数:\")\n",
    "sumDigits(x)"
   ]
  },
  {
   "cell_type": "code",
   "execution_count": null,
   "metadata": {},
   "outputs": [],
   "source": []
  },
  {
   "cell_type": "code",
   "execution_count": null,
   "metadata": {},
   "outputs": [],
   "source": [
    "#3、输入三个数，升序排列\n",
    "def desplaySortedNumbers(num1,num2,num3):\n",
    "    print(\"请输入三个数：\",num1,num2,num3)\n",
    "    if num1 >= num2:\n",
    "        if num1>=num3:\n",
    "            if num2>=num3:\n",
    "                print(\"排序为：\",num3,num2,num1)\n",
    "            else:\n",
    "                print(\"排序为：\",num2,num3,num1)\n",
    "        else:\n",
    "            print(\"排序为：\",num2,num1,num3)\n",
    "    else:\n",
    "        if num1>=num3:\n",
    "            print(\"排序为：\",num3,num1,num2)\n",
    "        elif num2>=num3:\n",
    "            print(\"排序为：\",num1,num3,num2)\n",
    "        else:\n",
    "            print(\"排序为：\",num1,num2,num3)\n",
    "desplaySortedNumbers(7,58,55)       "
   ]
  },
  {
   "cell_type": "code",
   "execution_count": null,
   "metadata": {},
   "outputs": [],
   "source": [
    "#4.编写一个程序提示用户输入投资额和百分比格式的年利率，然后输出一份表格显示年份从1到30年的未来值。\n",
    "def futureInvestmentValue(investmentAmount,monthInterestRate,years):\n",
    "    years1 = years+1\n",
    "    for i in range(1,years1):\n",
    "        FutureValue = investmentAmount + investmentAmount * monthInterestRate\n",
    "#未来值=本金+本金*利率\n",
    "        print(i,FutureValue)\n",
    "        investmentAmount = FutureValue\n",
    "futureInvestmentValue(10000,0.09,30)"
   ]
  },
  {
   "cell_type": "code",
   "execution_count": null,
   "metadata": {},
   "outputs": [],
   "source": [
    "#5.\n",
    "\n"
   ]
  },
  {
   "cell_type": "code",
   "execution_count": null,
   "metadata": {},
   "outputs": [],
   "source": [
    "#6、编写函数显示从2010年到2020年每年的天数\n",
    "def numberOfDaysInAYrea(year):\n",
    "    for year in range(2010,2021):\n",
    "        if year%100 !=0 and year%4==0 and year%400==0:\n",
    "        #能被4和400整除，不能被100整除的为闰年\n",
    "            print(year,\"年有366天\")\n",
    "        else:\n",
    "            print(year,\"年有365天\")\n",
    "numberOfDaysInAYrea(year)"
   ]
  },
  {
   "cell_type": "code",
   "execution_count": null,
   "metadata": {},
   "outputs": [],
   "source": [
    "#7、计算两点间距离\n",
    "import math\n",
    "def distance(x1,y1,x2,y2):\n",
    "    d1=(x1-x2)**2\n",
    "    d2=(y1-y2)**2\n",
    "    d=d1+d2\n",
    "    D= math.sqrt(d)\n",
    "#math.sqrt(d)参数 d 的平方根\n",
    "    print(\"两点间距离为：\",D)\n",
    "distance(2,2,3,3)"
   ]
  },
  {
   "cell_type": "code",
   "execution_count": null,
   "metadata": {},
   "outputs": [],
   "source": [
    "#8、编写程序找出p<=31的梅森素数\n",
    "def meisen(p):\n",
    "    q=pow(2,p)-1\n",
    "    #pow(2,p)-1是2的p次方减1\n",
    "    m=2\n",
    "    if p==2:\n",
    "        print(p,q)\n",
    "    for i in range(2,p):\n",
    "        m=m+1\n",
    "        if p%i==0:\n",
    "            break\n",
    "        if m == p:\n",
    "            print(p,q)\n",
    "            \n",
    "for p in range(1,32):\n",
    "    meisen(p)"
   ]
  },
  {
   "cell_type": "code",
   "execution_count": null,
   "metadata": {},
   "outputs": [],
   "source": [
    "#9、调用time.time()返回1970年1月1日0点开始的毫秒数。\n"
   ]
  },
  {
   "cell_type": "code",
   "execution_count": null,
   "metadata": {},
   "outputs": [],
   "source": [
    "10、投色子。\n",
    "import numpy as np\n",
    "def dianshu():\n",
    "    #np.random.choice有放回的抽样\n",
    "    res1 = np.random.choice([1,2,3,4,5,6])\n",
    "    print(\"您第一次抛出的点数为:\",res1)\n",
    "    res2 = np.random.choice([1,2,3,4,5,6])\n",
    "    print(\"您第二次抛出的点数为:\",res2)\n",
    "    res = res1 + res2\n",
    "    print(\"您抛出的两次点数之和为：\",res)\n",
    "    return res\n",
    "res = dianshu()\n",
    "if res==2 or res==3 or res==12:\n",
    "    print(\"you lose\")\n",
    "elif res==7 or res==11:\n",
    "    print(\"you win\")\n",
    "else:\n",
    "    res3 = res\n",
    "    res = dianshu()\n",
    "    if res ==7 or res == res3:\n",
    "        print(\"you win\")\n",
    "    else:\n",
    "        print(\"next\")"
   ]
  },
  {
   "cell_type": "code",
   "execution_count": 17,
   "metadata": {},
   "outputs": [],
   "source": []
  },
  {
   "cell_type": "code",
   "execution_count": null,
   "metadata": {},
   "outputs": [],
   "source": [
    "#11进入王者\n",
    "import numpy as np\n",
    "class wangzhe(object):\n",
    "    def duizhan(self):\n",
    "        tiao = input('请选择对战模式：人机对战 or 多人模式')\n",
    "        print(tiao)\n",
    "    def tiaoxuan(self):\n",
    "        a = input('挑选人物：典韦，赵云，鲁班')\n",
    "        if a == '典韦':\n",
    "            print(a ,\":战力--100，防御--57\")\n",
    "        elif a == '赵云':\n",
    "            print(a , \":战力--500，防御--99\")\n",
    "        else:\n",
    "            print(a , \":战力--200，防御--86\")\n",
    "    def suiji(self):\n",
    "        res = np.random.choice(['典韦','赵云','鲁班'])\n",
    "        if res == '典韦':\n",
    "            print(res,\":战力--100，防御--57\")\n",
    "        elif res == '赵云':\n",
    "            print(res , \":战力--500，防御--99\")\n",
    "        else:\n",
    "            print(res , \":战力--200，防御--86\")\n",
    "    def start(self):\n",
    "        b = input('输入开始:')\n",
    "        print(b,\"加载项......\")\n",
    "a = wangzhe()\n",
    "a.duizhan()\n",
    "a.tiaoxuan()\n",
    "a.suiji()\n",
    "a.start()"
   ]
  },
  {
   "cell_type": "code",
   "execution_count": null,
   "metadata": {},
   "outputs": [],
   "source": []
  },
  {
   "cell_type": "code",
   "execution_count": null,
   "metadata": {},
   "outputs": [],
   "source": []
  }
 ],
 "metadata": {
  "kernelspec": {
   "display_name": "Python 3",
   "language": "python",
   "name": "python3"
  },
  "language_info": {
   "codemirror_mode": {
    "name": "ipython",
    "version": 3
   },
   "file_extension": ".py",
   "mimetype": "text/x-python",
   "name": "python",
   "nbconvert_exporter": "python",
   "pygments_lexer": "ipython3",
   "version": "3.7.3"
  }
 },
 "nbformat": 4,
 "nbformat_minor": 2
}
