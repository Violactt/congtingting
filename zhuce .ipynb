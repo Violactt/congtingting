{
 "cells": [
  {
   "cell_type": "code",
   "execution_count": 1,
   "metadata": {},
   "outputs": [
    {
     "name": "stdout",
     "output_type": "stream",
     "text": [
      "请输入邮箱456\n",
      "请输入多于六位密码123456\n",
      "请再次输入密码123456\n",
      "请继续下一步\n",
      "验证码为： 6178\n",
      "请输入验证码6178\n",
      "请继续下一步\n"
     ]
    }
   ],
   "source": [
    "import random\n",
    "class zhuce(object):\n",
    "    def youxiang(self):\n",
    "        self.shuru = input('请输入qq邮箱')\n",
    "        if len(self.shuru)<8 and len(self.shuru)>10:\n",
    "            print('请输入正确的邮箱格式')\n",
    "        else:\n",
    "            print(self.shuru,'@qq.com')\n",
    "    def mima1(self):\n",
    "        self.yi = input('请输入6-20位密码')\n",
    "        if  len(self.yi) <6 and len(self.yi)>20:\n",
    "            print('请输入6-20位密码！！！')\n",
    "            self.mima1()   \n",
    "    def mima2(self):\n",
    "        self.er = input('请再次输入密码')\n",
    "        if self.yi == self.er:\n",
    "            print('请继续下一步')\n",
    "        else:\n",
    "            print('请输入相同密码!!!')\n",
    "            self.mima2()\n",
    "    def yanzheng(self):\n",
    "        self.yanzhengma = random.randrange(1000,9999)\n",
    "        print('验证码为：',self.yanzhengma)\n",
    "        shuru1 = input('请输入验证码')\n",
    "        if int(shuru1) != self.yanzhengma:\n",
    "            print('重新验证')\n",
    "            self.yanzheng()\n",
    "        else:\n",
    "            print('请继续下一步')\n",
    "a=zhuce()\n",
    "a.youxiang()\n",
    "a.mima1()\n",
    "a.mima2()\n",
    "a.yanzheng()"
   ]
  },
  {
   "cell_type": "code",
   "execution_count": null,
   "metadata": {},
   "outputs": [],
   "source": []
  },
  {
   "cell_type": "code",
   "execution_count": null,
   "metadata": {},
   "outputs": [],
   "source": []
  }
 ],
 "metadata": {
  "kernelspec": {
   "display_name": "Python 3",
   "language": "python",
   "name": "python3"
  },
  "language_info": {
   "codemirror_mode": {
    "name": "ipython",
    "version": 3
   },
   "file_extension": ".py",
   "mimetype": "text/x-python",
   "name": "python",
   "nbconvert_exporter": "python",
   "pygments_lexer": "ipython3",
   "version": "3.7.3"
  }
 },
 "nbformat": 4,
 "nbformat_minor": 2
}
